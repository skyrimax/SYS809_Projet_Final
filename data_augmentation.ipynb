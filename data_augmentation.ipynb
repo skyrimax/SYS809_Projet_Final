{
 "metadata": {
  "language_info": {
   "codemirror_mode": {
    "name": "ipython",
    "version": 3
   },
   "file_extension": ".py",
   "mimetype": "text/x-python",
   "name": "python",
   "nbconvert_exporter": "python",
   "pygments_lexer": "ipython3",
   "version": "3.8.5-final"
  },
  "orig_nbformat": 2,
  "kernelspec": {
   "name": "python385jvsc74a57bd0421f4417a0ed316b7496151df392b309b7fb3b0a5c1f316666a0750408896e75",
   "display_name": "Python 3.8.5 64-bit ('sys809': conda)"
  }
 },
 "nbformat": 4,
 "nbformat_minor": 2,
 "cells": [
  {
   "cell_type": "code",
   "execution_count": 9,
   "metadata": {},
   "outputs": [],
   "source": [
    "import cv2\n",
    "import matplotlib.pyplot as plt\n",
    "import random\n",
    "from scipy import ndarray\n",
    "import skimage as sk\n",
    "from skimage import transform\n",
    "from skimage import util\n",
    "from glob import glob\n",
    "import os\n",
    "from scipy import ndimage\n",
    "import numpy as np\n",
    "from PIL import Image\n",
    "from operator import itemgetter\n"
   ]
  },
  {
   "cell_type": "code",
   "execution_count": 3,
   "metadata": {},
   "outputs": [],
   "source": [
    "def horizontal_flip(image_array: ndarray):\n",
    "    return np.fliplr(image_array)"
   ]
  },
  {
   "cell_type": "code",
   "execution_count": 4,
   "metadata": {},
   "outputs": [],
   "source": [
    "directory = '.\\\\Datasets'\n",
    "sequences_directories = [os.path.join(directory, o) for o in os.listdir(directory) \n",
    "                    if os.path.isdir(os.path.join(directory,o))]"
   ]
  },
  {
   "cell_type": "code",
   "execution_count": 22,
   "metadata": {
    "tags": []
   },
   "outputs": [],
   "source": [
    "available_transformations = {\n",
    "    'horizontal_flip': horizontal_flip,\n",
    "}\n",
    "\n",
    "i = 1\n",
    "\n",
    "for sequence_dir in sequences_directories:\n",
    "    image_directories = [os.path.join(sequence_dir, o) for o in os.listdir(sequence_dir) \n",
    "                    if os.path.isdir(os.path.join(sequence_dir,o))]\n",
    "    \n",
    "    for image_dir in image_directories:\n",
    "        images = os.listdir(image_dir)\n",
    "        \n",
    "        for image in images:\n",
    "            if sequence_dir.endswith(\"B\") and image.startswith(\"augmentation\"):\n",
    "                os.remove(image_dir + \"/\" + image)\n",
    "            \n",
    "            for j in range(3):\n",
    "                image_to_transform = cv2.imread(image_dir + \"/\" + images[0])\n",
    "                image_to_transform = cv2.cvtColor(image_to_transform, cv2.COLOR_BGR2RGB)\n",
    "                \n",
    "                num_transformations_to_apply = random.randint(0, len(available_transformations))\n",
    "\n",
    "                num_transformations = 0\n",
    "\n",
    "                transformed_image = None\n",
    "                while num_transformations <= num_transformations_to_apply:\n",
    "                    key = random.choice(list(available_transformations))\n",
    "                    transformed_image = available_transformations[key](image_to_transform)\n",
    "                    num_transformations += 1\n",
    "                \n",
    "                new_file_path = image_dir + \"/\" + \"augmentation#\" + str(i) + \".jpg\"\n",
    "                i += 1\n",
    "                \n",
    "                im = Image.fromarray(transformed_image)\n",
    "                im = im.rotate(random.uniform(-20,20), expand=True)\n",
    "\n",
    "                im.save(new_file_path)\n",
    "            "
   ]
  },
  {
   "cell_type": "code",
   "execution_count": null,
   "metadata": {},
   "outputs": [],
   "source": [
    "# Pour garder seulement l'image de base pour les tests\n",
    "for sequence_dir in sequences_directories:\n",
    "    image_directories = [os.path.join(sequence_dir, o) for o in os.listdir(sequence_dir) \n",
    "                    if os.path.isdir(os.path.join(sequence_dir,o))]\n",
    "    \n",
    "    for image_dir in image_directories:\n",
    "        images = os.listdir(image_dir)\n",
    "        \n",
    "        for image in images:\n",
    "            if sequence_dir.endswith(\"B\") and image.startswith(\"augmentation\"):\n",
    "                os.remove(image_dir + \"/\" + image)"
   ]
  },
  {
   "cell_type": "code",
   "execution_count": null,
   "metadata": {},
   "outputs": [],
   "source": []
  }
 ]
}